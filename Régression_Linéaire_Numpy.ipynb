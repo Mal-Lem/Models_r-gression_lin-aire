{
  "nbformat": 4,
  "nbformat_minor": 0,
  "metadata": {
    "colab": {
      "provenance": [],
      "authorship_tag": "ABX9TyOqR+T6TDiFQpdSaAaxD6ib",
      "include_colab_link": true
    },
    "kernelspec": {
      "name": "python3",
      "display_name": "Python 3"
    },
    "language_info": {
      "name": "python"
    }
  },
  "cells": [
    {
      "cell_type": "markdown",
      "metadata": {
        "id": "view-in-github",
        "colab_type": "text"
      },
      "source": [
        "<a href=\"https://colab.research.google.com/github/Mal-Lem/Models_r-gression_lin-aire/blob/main/R%C3%A9gression_Lin%C3%A9aire_Numpy.ipynb\" target=\"_parent\"><img src=\"https://colab.research.google.com/assets/colab-badge.svg\" alt=\"Open In Colab\"/></a>"
      ]
    },
    {
      "cell_type": "code",
      "execution_count": 2,
      "metadata": {
        "colab": {
          "base_uri": "https://localhost:8080/",
          "height": 283
        },
        "id": "c58ZWvgKg5B_",
        "outputId": "4d5fd362-e217-471b-d8b1-d9b5dc9f6dc9"
      },
      "outputs": [
        {
          "output_type": "execute_result",
          "data": {
            "text/plain": [
              "<matplotlib.collections.PathCollection at 0x7f074325b430>"
            ]
          },
          "metadata": {},
          "execution_count": 2
        },
        {
          "output_type": "display_data",
          "data": {
            "text/plain": [
              "<Figure size 432x288 with 1 Axes>"
            ],
            "image/png": "[encoded data removed]"
          },
          "metadata": {
            "needs_background": "light"
          }
        }
      ],
      "source": [
        "import numpy as np\n",
        "from sklearn.datasets import make_regression\n",
        "import matplotlib.pyplot as plt\n",
        "\n",
        "np.random.seed(0) #pour tjr reproduire le mm dataset\n",
        "x , y = make_regression(n_samples = 100, n_features = 1 , noise = 10)# entre nbr de X et un autre 10 dans notre exepmle entre -2 et 8\n",
        "plt.scatter(x,y)"
      ]
    },
    {
      "cell_type": "code",
      "source": [
        "#pour verifier les dimanssions d'une matrice\n",
        "print(x.shape)\n",
        "print(y.shape)"
      ],
      "metadata": {
        "colab": {
          "base_uri": "https://localhost:8080/"
        },
        "id": "csmyQP4ylXeQ",
        "outputId": "7f837685-3ae6-4ae6-b2c0-d9e4e038c706"
      },
      "execution_count": 3,
      "outputs": [
        {
          "output_type": "stream",
          "name": "stdout",
          "text": [
            "(100, 1)\n",
            "(100,)\n"
          ]
        }
      ]
    },
    {
      "cell_type": "code",
      "source": [
        "#dans notre dimanssion on vois que y n'as pas nbr de ligne alors on l redimensionne\n",
        "y = y.reshape(y.shape[0],1)\n",
        "print(y.shape)"
      ],
      "metadata": {
        "colab": {
          "base_uri": "https://localhost:8080/"
        },
        "id": "7QJgCiCVlyEp",
        "outputId": "9cd832a6-d39b-4df8-cd49-0a10337e8692"
      },
      "execution_count": 4,
      "outputs": [
        {
          "output_type": "stream",
          "name": "stdout",
          "text": [
            "(100, 1)\n"
          ]
        }
      ]
    },
    {
      "cell_type": "code",
      "source": [
        "#creation d'une matrice qui contient la colonne de Biais \n",
        "X = np.hstack((x , np.ones(x.shape)))\n",
        "print(X.shape)"
      ],
      "metadata": {
        "colab": {
          "base_uri": "https://localhost:8080/"
        },
        "id": "bJoU-qZPmhSA",
        "outputId": "0230f417-f6af-46d9-b7cb-1c0af28d3925"
      },
      "execution_count": 5,
      "outputs": [
        {
          "output_type": "stream",
          "name": "stdout",
          "text": [
            "(100, 2)\n"
          ]
        }
      ]
    },
    {
      "cell_type": "code",
      "source": [
        "#creation du vecteur thèta \n",
        "np.random.seed(0)\n",
        "theta = np.random.randn(2,1)#generer une matrice c'elemt entre 0 et 10\n",
        "theta"
      ],
      "metadata": {
        "colab": {
          "base_uri": "https://localhost:8080/"
        },
        "id": "KaC1dEtZnpI4",
        "outputId": "6afc74be-ccf0-4e75-e808-195e47c8bdce"
      },
      "execution_count": 6,
      "outputs": [
        {
          "output_type": "execute_result",
          "data": {
            "text/plain": [
              "array([[1.76405235],\n",
              "       [0.40015721]])"
            ]
          },
          "metadata": {},
          "execution_count": 6
        }
      ]
    },
    {
      "cell_type": "code",
      "source": [
        "#implementer un model F = X*théta (m*1)\n",
        "def model (X, theta):\n",
        "    return X.dot(theta)"
      ],
      "metadata": {
        "id": "jRGEgW6sonmR"
      },
      "execution_count": 7,
      "outputs": []
    },
    {
      "cell_type": "code",
      "source": [
        "plt.scatter(x,y)\n",
        "plt.plot(x, model(X, theta), c='r') "
      ],
      "metadata": {
        "colab": {
          "base_uri": "https://localhost:8080/",
          "height": 283
        },
        "id": "bSMzOzJVpDtK",
        "outputId": "19d78d70-c668-4fef-b8ac-589445aba04d"
      },
      "execution_count": 8,
      "outputs": [
        {
          "output_type": "execute_result",
          "data": {
            "text/plain": [
              "[<matplotlib.lines.Line2D at 0x7f07410f77c0>]"
            ]
          },
          "metadata": {},
          "execution_count": 8
        },
        {
          "output_type": "display_data",
          "data": {
            "text/plain": [
              "<Figure size 432x288 with 1 Axes>"
            ],
            "image/png": "[encoded data removed]"
          },
          "metadata": {
            "needs_background": "light"
          }
        }
      ]
    },
    {
      "cell_type": "code",
      "source": [
        "# fonction de cout \n",
        "def cost_function(X, y,theta):\n",
        "    m = len(y)\n",
        "    return 1/(2*m) * np.sum((model(X,theta)-y)**2)"
      ],
      "metadata": {
        "id": "AgLi3GwerixV"
      },
      "execution_count": 9,
      "outputs": []
    },
    {
      "cell_type": "code",
      "source": [
        "cost_function(X,y,theta)"
      ],
      "metadata": {
        "colab": {
          "base_uri": "https://localhost:8080/"
        },
        "id": "pePtx_1ssuY4",
        "outputId": "ba3db97c-0a2b-4949-b152-d062897f609f"
      },
      "execution_count": 10,
      "outputs": [
        {
          "output_type": "execute_result",
          "data": {
            "text/plain": [
              "905.6306841935502"
            ]
          },
          "metadata": {},
          "execution_count": 10
        }
      ]
    },
    {
      "cell_type": "code",
      "source": [
        "#function qui calcul l derivée\n",
        "def grad(X,y,theta):\n",
        "   m= len(y)\n",
        "   return 1/m*X.T.dot(model(X,theta)-y)"
      ],
      "metadata": {
        "id": "qeEv17Ids62i"
      },
      "execution_count": 11,
      "outputs": []
    },
    {
      "cell_type": "code",
      "source": [
        "#dradient descent\n",
        "def gradient_descent(X,y,theta,learning_rate,n_iterations):\n",
        "    cost_history = np.zeros(n_iterations)\n",
        "    for i in range(0,n_iterations):\n",
        "     theta = theta - learning_rate * grad(X,y,theta)\n",
        "     cost_history[i] = cost_function(X,y,theta) \n",
        "    return theta, cost_history"
      ],
      "metadata": {
        "id": "Q4L4fnlntf__"
      },
      "execution_count": 14,
      "outputs": []
    },
    {
      "cell_type": "code",
      "source": [
        " n_iterations = 1000\n",
        " learning_rate = 0.01\n",
        " theta_final,cost_history = gradient_descent(X,y,theta,learning_rate,n_iterations)"
      ],
      "metadata": {
        "id": "EwRGNk21wPui"
      },
      "execution_count": 21,
      "outputs": []
    },
    {
      "cell_type": "code",
      "source": [
        "theta_final"
      ],
      "metadata": {
        "colab": {
          "base_uri": "https://localhost:8080/"
        },
        "id": "AcZS9aDA0Nul",
        "outputId": "08e2048b-1bd3-4d41-8263-c45db2a0ede1"
      },
      "execution_count": 22,
      "outputs": [
        {
          "output_type": "execute_result",
          "data": {
            "text/plain": [
              "array([[42.61765864],\n",
              "       [-0.81309274]])"
            ]
          },
          "metadata": {},
          "execution_count": 22
        }
      ]
    },
    {
      "cell_type": "code",
      "source": [
        "predictions = model(X,theta_final)\n",
        "plt.scatter(x,y)\n",
        "plt.plot(x,predictions, c='r')"
      ],
      "metadata": {
        "colab": {
          "base_uri": "https://localhost:8080/",
          "height": 283
        },
        "id": "2DEeKAVl0jZA",
        "outputId": "00cf4fd7-c269-41cc-db13-c16594b91e1b"
      },
      "execution_count": 23,
      "outputs": [
        {
          "output_type": "execute_result",
          "data": {
            "text/plain": [
              "[<matplotlib.lines.Line2D at 0x7f0736987550>]"
            ]
          },
          "metadata": {},
          "execution_count": 23
        },
        {
          "output_type": "display_data",
          "data": {
            "text/plain": [
              "<Figure size 432x288 with 1 Axes>"
            ],
            "image/png": "[encoded data removed]"
          },
          "metadata": {
            "needs_background": "light"
          }
        }
      ]
    },
    {
      "cell_type": "code",
      "source": [
        "plt.plot(range(n_iterations),cost_history)"
      ],
      "metadata": {
        "colab": {
          "base_uri": "https://localhost:8080/",
          "height": 283
        },
        "id": "Zaw_15991gbv",
        "outputId": "af564bb9-6ed1-4c7e-e88f-fb17cf5e08b5"
      },
      "execution_count": 24,
      "outputs": [
        {
          "output_type": "execute_result",
          "data": {
            "text/plain": [
              "[<matplotlib.lines.Line2D at 0x7f07368189d0>]"
            ]
          },
          "metadata": {},
          "execution_count": 24
        },
        {
          "output_type": "display_data",
          "data": {
            "text/plain": [
              "<Figure size 432x288 with 1 Axes>"
            ],
            "image/png": "[encoded data removed]"
          },
          "metadata": {
            "needs_background": "light"
          }
        }
      ]
    },
    {
      "cell_type": "code",
      "source": [
        "#evaluation finale\n",
        "def coef_determination(y,pred):\n",
        "  u = ((y-pred)**2).sum()\n",
        "  v = ((y-y.mean()**2)).sum()\n",
        "  return 1-u/v"
      ],
      "metadata": {
        "id": "wBB0l0Cy2nfb"
      },
      "execution_count": 25,
      "outputs": []
    },
    {
      "cell_type": "code",
      "source": [
        "coef_determination(y,predictions)"
      ],
      "metadata": {
        "colab": {
          "base_uri": "https://localhost:8080/"
        },
        "id": "Mi-ngiMH37de",
        "outputId": "356b3d0c-1032-448b-cf82-5a90c3329df5"
      },
      "execution_count": 26,
      "outputs": [
        {
          "output_type": "execute_result",
          "data": {
            "text/plain": [
              "90.56486182021096"
            ]
          },
          "metadata": {},
          "execution_count": 26
        }
      ]
    }
  ]
}